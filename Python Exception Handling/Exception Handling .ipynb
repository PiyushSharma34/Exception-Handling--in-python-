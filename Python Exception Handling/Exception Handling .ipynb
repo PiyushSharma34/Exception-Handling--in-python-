{
 "cells": [
  {
   "cell_type": "code",
   "execution_count": 6,
   "id": "53b1160e",
   "metadata": {},
   "outputs": [],
   "source": [
    "#This is Python expection handling \n",
    "\n",
    "\n",
    "#There are many expection handling in python Programming\n",
    "# KeyError   -\n",
    "# valueError   -\n",
    "# ModuleError   -\n",
    "# IndexError   -\n",
    "# ZeroDivisionError   -\n",
    "# NameError   -\n",
    "# TypeError   -\n",
    "# importError   -"
   ]
  },
  {
   "cell_type": "code",
   "execution_count": 7,
   "id": "b6671e4d",
   "metadata": {},
   "outputs": [
    {
     "ename": "ZeroDivisionError",
     "evalue": "division by zero",
     "output_type": "error",
     "traceback": [
      "\u001b[1;31m---------------------------------------------------------------------------\u001b[0m",
      "\u001b[1;31mZeroDivisionError\u001b[0m                         Traceback (most recent call last)",
      "Cell \u001b[1;32mIn[7], line 6\u001b[0m\n\u001b[0;32m      3\u001b[0m a\u001b[38;5;241m=\u001b[39m \u001b[38;5;241m10\u001b[39m\n\u001b[0;32m      4\u001b[0m b \u001b[38;5;241m=\u001b[39m\u001b[38;5;241m0\u001b[39m\n\u001b[1;32m----> 6\u001b[0m c\u001b[38;5;241m=\u001b[39m  \u001b[43ma\u001b[49m\u001b[38;5;241;43m/\u001b[39;49m\u001b[43mb\u001b[49m\n\u001b[0;32m      7\u001b[0m \u001b[38;5;28mprint\u001b[39m(c)\n",
      "\u001b[1;31mZeroDivisionError\u001b[0m: division by zero"
     ]
    }
   ],
   "source": [
    "# ZeroDivisionError \n",
    "\n",
    "a= 10\n",
    "b =0\n",
    "c=  a/b\n",
    "print(c)"
   ]
  },
  {
   "cell_type": "code",
   "execution_count": 22,
   "id": "736c3604",
   "metadata": {},
   "outputs": [
    {
     "name": "stdout",
     "output_type": "stream",
     "text": [
      "This index is not find\n"
     ]
    }
   ],
   "source": [
    "# IndexError \n",
    "try:\n",
    "    a= ['Apple','Banana','Papaya','Orange']\n",
    "    print(a[4])\n",
    "except:\n",
    "    print(\"This index is not find\")"
   ]
  },
  {
   "cell_type": "code",
   "execution_count": 23,
   "id": "2c40620b",
   "metadata": {},
   "outputs": [
    {
     "name": "stdout",
     "output_type": "stream",
     "text": [
      "This key is not find\n"
     ]
    }
   ],
   "source": [
    "# KeyError\n",
    "try:\n",
    "    a =  {'name':'PIYUSH',\n",
    "         'age':15}\n",
    "    print(a['a'])\n",
    "except:\n",
    "    print(\"This key is not find\")"
   ]
  },
  {
   "cell_type": "code",
   "execution_count": 19,
   "id": "5b0ddbbe",
   "metadata": {},
   "outputs": [
    {
     "name": "stdout",
     "output_type": "stream",
     "text": [
      "String is not add in int\n"
     ]
    }
   ],
   "source": [
    "# valueError\n",
    "try:\n",
    "    a  = 10\n",
    "    b ='78' \n",
    "    c = a+b\n",
    "    print(c)\n",
    "except:\n",
    "    print(\"String is not add in int\")"
   ]
  },
  {
   "cell_type": "code",
   "execution_count": 13,
   "id": "d9715c36",
   "metadata": {},
   "outputs": [
    {
     "name": "stdout",
     "output_type": "stream",
     "text": [
      "Write same name is of function\n"
     ]
    }
   ],
   "source": [
    "# NameError \n",
    "try:\n",
    "    def add():\n",
    "        print(\"PIYUSH BHARADWAJ\")\n",
    "    adad()\n",
    "except:\n",
    "    print(\"Write same name is of function\")"
   ]
  },
  {
   "cell_type": "code",
   "execution_count": 9,
   "id": "2ae6c40a",
   "metadata": {},
   "outputs": [
    {
     "ename": "ModuleNotFoundError",
     "evalue": "No module named 'padas'",
     "output_type": "error",
     "traceback": [
      "\u001b[1;31m---------------------------------------------------------------------------\u001b[0m",
      "\u001b[1;31mModuleNotFoundError\u001b[0m                       Traceback (most recent call last)",
      "Cell \u001b[1;32mIn[9], line 1\u001b[0m\n\u001b[1;32m----> 1\u001b[0m \u001b[38;5;28;01mimport\u001b[39;00m \u001b[38;5;21;01mpadas\u001b[39;00m \n",
      "\u001b[1;31mModuleNotFoundError\u001b[0m: No module named 'padas'"
     ]
    }
   ],
   "source": [
    "import padas "
   ]
  },
  {
   "cell_type": "code",
   "execution_count": 15,
   "id": "28fdb0c8",
   "metadata": {},
   "outputs": [
    {
     "ename": "ModuleNotFoundError",
     "evalue": "No module named 'panddas'",
     "output_type": "error",
     "traceback": [
      "\u001b[1;31m---------------------------------------------------------------------------\u001b[0m",
      "\u001b[1;31mModuleNotFoundError\u001b[0m                       Traceback (most recent call last)",
      "Cell \u001b[1;32mIn[15], line 1\u001b[0m\n\u001b[1;32m----> 1\u001b[0m \u001b[38;5;28;01mimport\u001b[39;00m \u001b[38;5;21;01mpanddas\u001b[39;00m \u001b[38;5;28;01mas\u001b[39;00m \u001b[38;5;21;01mpd\u001b[39;00m \n",
      "\u001b[1;31mModuleNotFoundError\u001b[0m: No module named 'panddas'"
     ]
    }
   ],
   "source": [
    "import panddas as pd "
   ]
  },
  {
   "cell_type": "code",
   "execution_count": 6,
   "id": "519d5fda",
   "metadata": {},
   "outputs": [
    {
     "name": "stdout",
     "output_type": "stream",
     "text": [
      "Write  your namedc\n",
      "Please write Integer Not String\n"
     ]
    }
   ],
   "source": [
    "\n",
    "try:\n",
    "\n",
    "    a = int(input(\"Write  your name\"))\n",
    "    b = int(input(\"Write Your second name\"))\n",
    "    c=a+b\n",
    "    print(\"Total add value is \",c)\n",
    "except:\n",
    "    \n",
    "    print(\"Please write Integer Not String\")"
   ]
  },
  {
   "cell_type": "code",
   "execution_count": null,
   "id": "54d70704",
   "metadata": {},
   "outputs": [],
   "source": []
  },
  {
   "cell_type": "code",
   "execution_count": null,
   "id": "fd2fa649",
   "metadata": {},
   "outputs": [],
   "source": []
  }
 ],
 "metadata": {
  "kernelspec": {
   "display_name": "Python 3 (ipykernel)",
   "language": "python",
   "name": "python3"
  },
  "language_info": {
   "codemirror_mode": {
    "name": "ipython",
    "version": 3
   },
   "file_extension": ".py",
   "mimetype": "text/x-python",
   "name": "python",
   "nbconvert_exporter": "python",
   "pygments_lexer": "ipython3",
   "version": "3.11.3"
  }
 },
 "nbformat": 4,
 "nbformat_minor": 5
}
